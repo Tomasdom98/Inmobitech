{
 "cells": [
  {
   "cell_type": "markdown",
   "id": "bd85f648",
   "metadata": {},
   "source": [
    "# Workshop We Work Santiago 2022"
   ]
  },
  {
   "cell_type": "markdown",
   "id": "c4c0ec12",
   "metadata": {},
   "source": [
    "### Objetivo de hoy"
   ]
  },
  {
   "cell_type": "markdown",
   "id": "51e8b59a",
   "metadata": {},
   "source": [
    "2022: Estamos lanzando una startup InmobiTech. Necesitamos recolectar información sobre los arriendos en Santiago. "
   ]
  },
  {
   "cell_type": "markdown",
   "id": "331a840d",
   "metadata": {},
   "source": [
    "![Se arriendo](./Arriendo.jpeg)"
   ]
  },
  {
   "cell_type": "markdown",
   "id": "669aa0f6",
   "metadata": {},
   "source": [
    "👉 Nuestra idea: entrar en [Portal Inmobiliario](https://www.portalinmobiliario.com) y sacar toda la info!"
   ]
  },
  {
   "cell_type": "markdown",
   "id": "e16d70d3",
   "metadata": {},
   "source": [
    "> A mano? 😳 🤯"
   ]
  },
  {
   "cell_type": "markdown",
   "id": "f7390057",
   "metadata": {},
   "source": [
    "> Definitivamente NO! 😉"
   ]
  },
  {
   "cell_type": "markdown",
   "id": "3478c548",
   "metadata": {},
   "source": [
    "Para eso, necesitaremos aprender sobre:"
   ]
  },
  {
   "cell_type": "markdown",
   "id": "a426b35d",
   "metadata": {},
   "source": [
    "- Estructura de datos en *Python*: listas y diccionarios\n",
    "- Recolección de datos utilizando WebScraping (bs4)\n",
    "- Visualización utilizando librerías de Python (Plotly / Seaborn)\n",
    "- Calculos y estadisticas"
   ]
  },
  {
   "cell_type": "markdown",
   "id": "e25a0335",
   "metadata": {},
   "source": [
    "### Estructura de Datos"
   ]
  },
  {
   "cell_type": "markdown",
   "id": "5e393ebf",
   "metadata": {},
   "source": [
    "**Listas**"
   ]
  },
  {
   "cell_type": "markdown",
   "id": "b2e8aaad",
   "metadata": {},
   "source": [
    "- Indice (posición)\n",
    "- Puedo leer, agregar, modificar o eliminar"
   ]
  },
  {
   "cell_type": "code",
   "execution_count": null,
   "id": "7208bae4",
   "metadata": {},
   "outputs": [],
   "source": [
    "students = [\"Sebas\", \"Fede\", \"Camila\"]"
   ]
  },
  {
   "cell_type": "code",
   "execution_count": null,
   "id": "356332ac",
   "metadata": {},
   "outputs": [],
   "source": [
    "age = [32, 28, 26]"
   ]
  },
  {
   "cell_type": "code",
   "execution_count": null,
   "id": "26bba267",
   "metadata": {},
   "outputs": [],
   "source": [
    "age[0]\n",
    "age"
   ]
  },
  {
   "cell_type": "code",
   "execution_count": null,
   "id": "7b76de40-e551-4078-a33b-a1e2600e3766",
   "metadata": {},
   "outputs": [],
   "source": [
    "students.append(\"Tomas\")"
   ]
  },
  {
   "cell_type": "code",
   "execution_count": null,
   "id": "42a0d99e-e1fe-4fc4-816e-39d7dea71fdd",
   "metadata": {},
   "outputs": [],
   "source": [
    "students[1:4]"
   ]
  },
  {
   "cell_type": "markdown",
   "id": "df87de27",
   "metadata": {},
   "source": [
    "**Diccionarios**"
   ]
  },
  {
   "cell_type": "markdown",
   "id": "bc53de9f",
   "metadata": {},
   "source": [
    "- Parejas: `clave` : `valor`\n",
    "- No tiene indices\n",
    "- Las claves son únicas"
   ]
  },
  {
   "cell_type": "code",
   "execution_count": null,
   "id": "c4ad3e56",
   "metadata": {},
   "outputs": [],
   "source": [
    "{'name': 'Sebas', 'age': 32}"
   ]
  },
  {
   "cell_type": "markdown",
   "id": "e544feae",
   "metadata": {},
   "source": [
    "**Entonces...**"
   ]
  },
  {
   "cell_type": "code",
   "execution_count": null,
   "id": "82c5af82",
   "metadata": {},
   "outputs": [],
   "source": [
    "students = [\n",
    "    {'name': 'Sebas', 'age': 32},\n",
    "    {'name': 'Fede', 'age': 29},\n",
    "    {'name': 'Camila', 'age': 26}\n",
    "]\n",
    "students\n",
    "\n",
    "students.append({'name': 'Agustin', 'age': 24})\n",
    "students[0]"
   ]
  },
  {
   "cell_type": "markdown",
   "id": "36e1e8ca",
   "metadata": {},
   "source": [
    "### Web 101"
   ]
  },
  {
   "cell_type": "markdown",
   "id": "1e996173",
   "metadata": {},
   "source": [
    "![HTTP Request](./Web.png)"
   ]
  },
  {
   "cell_type": "markdown",
   "id": "2b70aba1-e94a-4a55-a4fc-3598272ad9bf",
   "metadata": {},
   "source": [
    "## Funcionamiento del Webscraping --> La idea de esta tecnica de extraccion de datos, es sustituir lo que hacemos en un navegador web por un programa en Python. \n",
    "\n",
    "\n",
    "\n",
    "#### - Lo que hacemos en un navegador es escribir un URL y esto lo que hace es enviar una peticion siguiendo el protocolo http a un servidor el cual nos devuelve el codigo html, el cual nuestro navegador consigue interpretar y transformar con ese aspecto visual lo que vemos en las paginas webs.\n",
    "\n",
    "\n",
    "\n",
    "#### - Con Python podemos hacer lo mismo, creando algoritmos que generen peticiones al servidor y recibir el codigo fuente en formato html.\n",
    "\n",
    "\n",
    "\n",
    "#### - Existe una libreria en Python llamda Beutifulsoup, la cual nos ayudara a analizar documentos html y extraer datos de ellos. Dando la posibilidad de poder acceder a lo que solamente nos interesa debido a que un codigo fuente html contiene mucha informacion de la cual nos interesa solamente la data que nos servira para nuestro estudio de interes.\n"
   ]
  },
  {
   "cell_type": "markdown",
   "id": "31ec6178",
   "metadata": {},
   "source": [
    "---"
   ]
  },
  {
   "cell_type": "markdown",
   "id": "91856f43",
   "metadata": {},
   "source": [
    "![HTML Tag](./Tags.png)"
   ]
  },
  {
   "cell_type": "markdown",
   "id": "b2554a33",
   "metadata": {},
   "source": [
    "### OK, let's go!"
   ]
  },
  {
   "cell_type": "markdown",
   "id": "ae4e12c7",
   "metadata": {},
   "source": [
    "##### Importamos la librerías de Python que necesitamos"
   ]
  },
  {
   "cell_type": "code",
   "execution_count": null,
   "id": "5fe90348",
   "metadata": {},
   "outputs": [],
   "source": [
    "import requests\n",
    "import numpy as np \n",
    "from bs4 import BeautifulSoup\n",
    "import re"
   ]
  },
  {
   "cell_type": "markdown",
   "id": "121044ba",
   "metadata": {},
   "source": [
    "Pedido de información a la web:"
   ]
  },
  {
   "cell_type": "code",
   "execution_count": null,
   "id": "509b5e0d",
   "metadata": {},
   "outputs": [],
   "source": [
    "url = \"https://www.portalinmobiliario.com/arriendo/departamento/santiago-metropolitana/\"\n",
    "response = requests.get(url)\n",
    "soup = BeautifulSoup(response.content)"
   ]
  },
  {
   "cell_type": "code",
   "execution_count": null,
   "id": "a77204e9",
   "metadata": {},
   "outputs": [],
   "source": [
    "pages = np.arange(1, 34*40, 40).tolist()"
   ]
  },
  {
   "cell_type": "markdown",
   "id": "2e4469b8",
   "metadata": {},
   "source": [
    "##### Funcion de recolección"
   ]
  },
  {
   "cell_type": "code",
   "execution_count": null,
   "id": "6ea5ada9",
   "metadata": {},
   "outputs": [],
   "source": [
    "def transform_html_to_data(soup):\n",
    "    restaurants_data = soup.find_all(class_='ui-search-layout__item')\n",
    "    restaurants = []\n",
    "    for restaurant in restaurants_data:\n",
    "        price = restaurant.find('span', class_='price-tag-fraction').text\n",
    "        price = int(price.replace(\".\", \"\"))\n",
    "        address = restaurant.find(class_='ui-search-item__group__element ui-search-item__location shops__items-group-details').text\n",
    "        space_information = restaurant.find(class_='ui-search-item__group ui-search-item__group--attributes shops__items-group').text\n",
    "        if space_information:\n",
    "            size = re.search(r'(\\d+) m', space_information)\n",
    "            if size:\n",
    "                size = int(size.group(1))\n",
    "            rooms = re.search(r'(\\d+) dormitorio', space_information)\n",
    "            if rooms:\n",
    "                rooms = int(rooms.group(1))\n",
    "        data = {'price (CLP)': price, 'rooms': rooms, 'size (m2)': size, 'address': address}\n",
    "        restaurants.append(data)\n",
    "\n",
    "    return restaurants"
   ]
  },
  {
   "cell_type": "markdown",
   "id": "0b8074b0",
   "metadata": {},
   "source": [
    "##### Iteramos según cuantas `pages` haya disponibles"
   ]
  },
  {
   "cell_type": "code",
   "execution_count": null,
   "id": "8bbeb611",
   "metadata": {},
   "outputs": [],
   "source": [
    "restaurants_list = []\n",
    "for page in pages:\n",
    "    url = f\"https://www.portalinmobiliario.com/arriendo/departamento/santiago-metropolitana/_Desde_{page}_NoIndex_True\"\n",
    "    response = requests.get(url)\n",
    "    soup = BeautifulSoup(response.content)\n",
    "    restaurants_list += transform_html_to_data(soup)"
   ]
  },
  {
   "cell_type": "markdown",
   "id": "f4c88152",
   "metadata": {},
   "source": [
    "**Cuantos departamentos pudimos recuperar?**"
   ]
  },
  {
   "cell_type": "code",
   "execution_count": null,
   "id": "346641b5",
   "metadata": {},
   "outputs": [],
   "source": [
    "len(restaurants_list)"
   ]
  },
  {
   "cell_type": "markdown",
   "id": "5a027da0",
   "metadata": {},
   "source": [
    "##### Transformamos los datos a un DataFrame"
   ]
  },
  {
   "cell_type": "code",
   "execution_count": null,
   "id": "1a28b899",
   "metadata": {},
   "outputs": [],
   "source": [
    "import pandas as pd"
   ]
  },
  {
   "cell_type": "code",
   "execution_count": null,
   "id": "7d340ff9",
   "metadata": {
    "scrolled": true
   },
   "outputs": [],
   "source": [
    "df = pd.DataFrame(restaurants_list)\n",
    "df.head(20)"
   ]
  },
  {
   "cell_type": "code",
   "execution_count": null,
   "id": "4c96e496",
   "metadata": {},
   "outputs": [],
   "source": [
    "df.shape"
   ]
  },
  {
   "cell_type": "markdown",
   "id": "aea6a56d",
   "metadata": {},
   "source": [
    "##### Limpiamos la información"
   ]
  },
  {
   "cell_type": "markdown",
   "id": "167ac820",
   "metadata": {},
   "source": [
    "- Falta de información"
   ]
  },
  {
   "cell_type": "code",
   "execution_count": null,
   "id": "a6b0b263",
   "metadata": {},
   "outputs": [],
   "source": [
    "df.isna().sum()"
   ]
  },
  {
   "cell_type": "code",
   "execution_count": null,
   "id": "06ad20ef",
   "metadata": {},
   "outputs": [],
   "source": [
    "df.dropna(inplace=True)\n",
    "df.shape"
   ]
  },
  {
   "cell_type": "code",
   "execution_count": null,
   "id": "f0189d28-fc93-494b-bcd6-194589076bc1",
   "metadata": {},
   "outputs": [],
   "source": [
    "df.head(10)"
   ]
  },
  {
   "cell_type": "code",
   "execution_count": null,
   "id": "1d9a6bcb-504a-4b02-928e-5c08afcc49cb",
   "metadata": {},
   "outputs": [],
   "source": [
    "df['price (CLP)'].max()"
   ]
  },
  {
   "cell_type": "code",
   "execution_count": null,
   "id": "0bd84791-9608-4441-a89f-4d31e1c147a7",
   "metadata": {},
   "outputs": [],
   "source": [
    "df['price (CLP)'].min()"
   ]
  },
  {
   "cell_type": "markdown",
   "id": "b25b9614-8e42-4fbe-b109-322a9965d260",
   "metadata": {},
   "source": [
    "## Calculo Uf a CLP, estandarizar los datos para dejarlos en misma magnitud en este caso CLP"
   ]
  },
  {
   "cell_type": "code",
   "execution_count": null,
   "id": "b4e4adb4-d33a-424a-aedd-c7d6f15beba7",
   "metadata": {},
   "outputs": [],
   "source": [
    "q_low = df[\"price (CLP)\"].quantile(0.1)\n",
    "q_hi  = df[\"price (CLP)\"].quantile(0.98)\n",
    "\n",
    "q_low1 = df[\"size (m2)\"].quantile(0.1)\n",
    "q_hi1  = df[\"size (m2)\"].quantile(0.98)\n",
    "\n",
    "df_filtered1= df[(df[\"size (m2)\"] < q_hi1) & (df[\"size (m2)\"] > q_low1)]\n",
    "df_filtered1\n",
    "# df_filtered = df[(df[\"price (CLP)\"] < q_hi) & (df[\"price (CLP)\"] > q_low)]\n"
   ]
  },
  {
   "cell_type": "code",
   "execution_count": null,
   "id": "530e76e8-59c6-400f-9fce-3799f6f74ec0",
   "metadata": {},
   "outputs": [],
   "source": [
    "df_filtered = df_filtered1[(df_filtered1[\"price (CLP)\"] < q_hi) & (df_filtered1[\"price (CLP)\"] > q_low)]\n",
    "df_filtered"
   ]
  },
  {
   "cell_type": "code",
   "execution_count": null,
   "id": "2adb5762-0000-4eb0-b0cd-074ddbfd4a1f",
   "metadata": {},
   "outputs": [],
   "source": [
    "# uf = 34750\n",
    "# min_price_charters = 3\n",
    "# # max_price_charters = \n",
    "\n",
    "\n",
    "\n",
    "# df_filtered['price (CLP)'] = df_filtered['price (CLP)'].map(lambda x : x if len(str(x)) > min_price_charters else x * uf)\n",
    "\n",
    "# df['price (CLP)'] = df['price (CLP)'].map(lambda x : x if len(str(x)) > min_price_charters and len(str(x)) < max_price_charters else df.drop(['price (CLP)']))"
   ]
  },
  {
   "cell_type": "code",
   "execution_count": null,
   "id": "b9926cd6-9c0c-4236-bdc0-8552f7c0dce2",
   "metadata": {},
   "outputs": [],
   "source": [
    "df_filtered['price (CLP)'].max()"
   ]
  },
  {
   "cell_type": "code",
   "execution_count": null,
   "id": "43aae731-dc61-4924-9611-fee6340b18bb",
   "metadata": {},
   "outputs": [],
   "source": [
    "df_filtered['price (CLP)'].min()"
   ]
  },
  {
   "cell_type": "code",
   "execution_count": null,
   "id": "a6d3a480-5569-47d2-8925-fa3a7b830a3c",
   "metadata": {},
   "outputs": [],
   "source": [
    "df_filtered['price (CLP)'].mean()"
   ]
  },
  {
   "cell_type": "code",
   "execution_count": null,
   "id": "39882179-ae82-4a7a-a0ca-ec090d27195e",
   "metadata": {},
   "outputs": [],
   "source": [
    "df_filtered.to_csv('./RegionMetropolitanalimpio.csv')"
   ]
  },
  {
   "cell_type": "markdown",
   "id": "66784f3f",
   "metadata": {},
   "source": [
    "- Outliers"
   ]
  },
  {
   "cell_type": "markdown",
   "id": "bf53f32f",
   "metadata": {},
   "source": [
    "> Precio de arriendo menor a 500000 CLP"
   ]
  },
  {
   "cell_type": "code",
   "execution_count": null,
   "id": "e4a58366",
   "metadata": {},
   "outputs": [],
   "source": [
    "condition = df_filtered['price (CLP)'] < 500000\n",
    "df_filtered = df_filtered[condition]\n",
    "df_filtered"
   ]
  },
  {
   "cell_type": "code",
   "execution_count": null,
   "id": "ba928634",
   "metadata": {},
   "outputs": [],
   "source": [
    "df_filtered.shape"
   ]
  },
  {
   "cell_type": "markdown",
   "id": "05a3e87f",
   "metadata": {},
   "source": [
    "> Precio mayor a 300000 CLP"
   ]
  },
  {
   "cell_type": "code",
   "execution_count": null,
   "id": "229d8f07",
   "metadata": {},
   "outputs": [],
   "source": [
    "condition = df_filtered['price (CLP)'] > 300000\n",
    "df_filtered = df_filtered[condition]\n",
    "df_filtered"
   ]
  },
  {
   "cell_type": "code",
   "execution_count": null,
   "id": "ed629077",
   "metadata": {
    "scrolled": true
   },
   "outputs": [],
   "source": [
    "df_filtered.shape"
   ]
  },
  {
   "cell_type": "markdown",
   "id": "d1cb86fb",
   "metadata": {},
   "source": [
    "> Menos de 5 piezas"
   ]
  },
  {
   "cell_type": "code",
   "execution_count": null,
   "id": "daccea0b",
   "metadata": {},
   "outputs": [],
   "source": [
    "condition = df_filtered['rooms'] < 5\n",
    "df_filtered = df_filtered[condition]\n",
    "df_filtered"
   ]
  },
  {
   "cell_type": "code",
   "execution_count": null,
   "id": "3e5649de",
   "metadata": {},
   "outputs": [],
   "source": [
    "df_filtered.shape"
   ]
  },
  {
   "cell_type": "markdown",
   "id": "86773d14",
   "metadata": {},
   "source": [
    "### Data Visualization"
   ]
  },
  {
   "cell_type": "code",
   "execution_count": null,
   "id": "d2c3028d",
   "metadata": {},
   "outputs": [],
   "source": [
    "import seaborn as sns\n",
    "import plotly.express as px"
   ]
  },
  {
   "cell_type": "code",
   "execution_count": null,
   "id": "29fa810a",
   "metadata": {
    "scrolled": true
   },
   "outputs": [],
   "source": [
    "fig = px.scatter(df_filtered, x=\"size (m2)\", y=\"price (CLP)\", size=\"rooms\", title=\"Precio vs. Tamaño\", width=800, height=400)\n",
    "fig.show()"
   ]
  },
  {
   "cell_type": "code",
   "execution_count": null,
   "id": "10bd471f",
   "metadata": {},
   "outputs": [],
   "source": [
    "sns.countplot(x=\"rooms\", data=df_filtered)\n",
    "sns.set(rc={'figure.figsize':(15, 6)})"
   ]
  },
  {
   "cell_type": "markdown",
   "id": "30fb280b-da00-42e9-8bf1-b09d7776a7f9",
   "metadata": {},
   "source": [
    "3681# sns.catplot(x='rooms', y='price (CLP)', data=df, kind=\"box\")"
   ]
  },
  {
   "cell_type": "code",
   "execution_count": null,
   "id": "519116a9",
   "metadata": {},
   "outputs": [],
   "source": [
    "sns.regplot(x='size (m2)', y='price (CLP)', data=df_filtered)"
   ]
  },
  {
   "cell_type": "code",
   "execution_count": null,
   "id": "29725019",
   "metadata": {},
   "outputs": [],
   "source": [
    "condition = df_filtered['size (m2)'] < 200\n",
    "df_max_size_200 = df_filtered[condition]"
   ]
  },
  {
   "cell_type": "code",
   "execution_count": null,
   "id": "945d4255",
   "metadata": {},
   "outputs": [],
   "source": [
    "df.shape"
   ]
  },
  {
   "cell_type": "code",
   "execution_count": null,
   "id": "c462d17a",
   "metadata": {},
   "outputs": [],
   "source": [
    "df_max_size_200.shape"
   ]
  },
  {
   "cell_type": "code",
   "execution_count": null,
   "id": "f5666eec",
   "metadata": {
    "scrolled": true
   },
   "outputs": [],
   "source": [
    "sns.regplot(x='size (m2)', y='price (CLP)', data=df_max_size_200, color='green')"
   ]
  },
  {
   "cell_type": "markdown",
   "id": "6cff24b1",
   "metadata": {},
   "source": [
    "##### Exportemos a CSV"
   ]
  },
  {
   "cell_type": "markdown",
   "id": "ca020ec5",
   "metadata": {},
   "source": [
    "Aprovechando la librería de **Pandas**, utilizamos solo `.to_csv()`"
   ]
  },
  {
   "cell_type": "code",
   "execution_count": null,
   "id": "720acc10",
   "metadata": {},
   "outputs": [],
   "source": [
    "df_max_size_200.to_csv('./RegionMetropolitana.csv')"
   ]
  },
  {
   "cell_type": "markdown",
   "id": "389f641d-716e-44b0-b15f-87526804ea7d",
   "metadata": {},
   "source": [
    "## Machine Learning\n",
    "### Linnear regression"
   ]
  },
  {
   "cell_type": "markdown",
   "id": "d9bc91ff-5b8d-4157-9e11-0832b9507381",
   "metadata": {},
   "source": [
    "### Hacer con 1 variable para simplificar\n",
    "### Despues explicar que puede ser multivariable y hay que hacer preprocesing, normalizar y ente otros antes de entrenar el modelo."
   ]
  },
  {
   "cell_type": "code",
   "execution_count": null,
   "id": "1bbe464c-a94a-4460-a36f-a0db3859ceb5",
   "metadata": {},
   "outputs": [],
   "source": [
    "data = pd.read_csv('./RegionMetropolitanalimpio.csv')\n",
    "data"
   ]
  },
  {
   "cell_type": "code",
   "execution_count": null,
   "id": "1bd5f6c7-ffb5-4c47-981a-e1b9c32fdb69",
   "metadata": {},
   "outputs": [],
   "source": [
    "data.drop(['Unnamed: 0'], axis=1)"
   ]
  },
  {
   "cell_type": "code",
   "execution_count": null,
   "id": "5780510e-8f17-47ce-b3f4-e199739c43aa",
   "metadata": {},
   "outputs": [],
   "source": [
    "livecode_data = data[['size (m2)','price (CLP)']]\n",
    "livecode_data.head()"
   ]
  },
  {
   "cell_type": "code",
   "execution_count": null,
   "id": "fc406b3f-6480-4cef-9b3b-2fa883e3e5b5",
   "metadata": {},
   "outputs": [],
   "source": [
    "import matplotlib.pyplot as plt # Plot Living area vs Sale price\n",
    "plt.scatter(data['size (m2)'], data['price (CLP)'])\n",
    "#\n",
    "# Labels\n",
    "plt.xlabel(\"Living area\")\n",
    "plt.ylabel(\"Sale price\")\n",
    "plt.show()"
   ]
  },
  {
   "cell_type": "code",
   "execution_count": null,
   "id": "dfb84022-dfa0-47b7-97f3-e17e94b735e4",
   "metadata": {},
   "outputs": [],
   "source": [
    "sns.regplot(x='size (m2)', y='price (CLP)', data=data, color='green')"
   ]
  },
  {
   "cell_type": "code",
   "execution_count": null,
   "id": "59c2fc9f-7748-4656-afaa-4384b7904a0c",
   "metadata": {},
   "outputs": [],
   "source": [
    "data[['size (m2)']].boxplot()"
   ]
  },
  {
   "cell_type": "code",
   "execution_count": null,
   "id": "cc6ed3a4-3e90-45ae-a8a8-8736870b7c00",
   "metadata": {},
   "outputs": [],
   "source": [
    "data[['price (CLP)']].boxplot()"
   ]
  },
  {
   "cell_type": "markdown",
   "id": "e4b0c21e-e017-4bb6-9169-8e468da0694e",
   "metadata": {},
   "source": [
    "## Training\n",
    "\n",
    "### Training a Linear Regression model with Sklearn LinearRegression"
   ]
  },
  {
   "cell_type": "code",
   "execution_count": null,
   "id": "c9f81142-2189-45d3-8aa7-7450c5dfaa18",
   "metadata": {},
   "outputs": [],
   "source": [
    "from sklearn.linear_model import LinearRegression # Instanciate the model\n",
    "\n",
    "model = LinearRegression()\n",
    "\n",
    "# Define X and y\n",
    "X = data[['size (m2)']] # a dataframe of featureres\n",
    "y = data['price (CLP)'] #a series of target\n",
    "\n",
    "# Train the model on the data\n",
    "model.fit(X, y)"
   ]
  },
  {
   "cell_type": "markdown",
   "id": "813701b0-f792-47cd-ad4f-f615f961f261",
   "metadata": {},
   "source": [
    "### At this stage, the model has learned the optimal slope a and intercept b needed to map the relationship between X and y.\n",
    "\n",
    "## Model Attributes\n",
    "### a (slope) and b (intercept) are stored as model attributes and can be accessed.\n"
   ]
  },
  {
   "cell_type": "code",
   "execution_count": null,
   "id": "690c5f7c-7fca-4c59-8386-34022d854168",
   "metadata": {},
   "outputs": [],
   "source": [
    " # View the model's slope (a)\n",
    "model.coef_"
   ]
  },
  {
   "cell_type": "code",
   "execution_count": null,
   "id": "5491bf61-f01d-4326-9bbf-c69a93f1566c",
   "metadata": {},
   "outputs": [],
   "source": [
    "# View the model's intercept (b)\n",
    "model.intercept_"
   ]
  },
  {
   "cell_type": "code",
   "execution_count": null,
   "id": "97775229-8c2d-4f2f-8785-60a34c1d45b8",
   "metadata": {},
   "outputs": [],
   "source": [
    " # Evaluate the model's performance / R2\n",
    "model.score(X,y)"
   ]
  },
  {
   "cell_type": "markdown",
   "id": "6347486f-be7b-4ed0-84fb-6f3f3f91b74a",
   "metadata": {},
   "source": [
    "## Prediccion\n",
    "\n",
    "### El train model nos servira para predecir nueva data"
   ]
  },
  {
   "cell_type": "code",
   "execution_count": null,
   "id": "63bef705-96a2-4e03-8845-42307e904d81",
   "metadata": {},
   "outputs": [],
   "source": [
    "#  Predict on new data\n",
    "model.predict([[50]])"
   ]
  },
  {
   "cell_type": "markdown",
   "id": "14b30fb3-2691-4ed8-b163-def6a80e9c6b",
   "metadata": {},
   "source": [
    "### Por tanto, un departamento con una superficie de 300 m2 ha predecido un valor de arriendo de $x pesos mensuales"
   ]
  },
  {
   "cell_type": "markdown",
   "id": "587019e1-f1be-4132-914d-1d0661cbad45",
   "metadata": {},
   "source": [
    "Pasos\n",
    "\n",
    "1. Import the model: from sklearn import model\n",
    "2. Instantiate the model: model = model()\n",
    "3. Train the model: model.fit(X, y)\n",
    "4. Evaluate the model: model.score(new_X, new_y) 5. Make predictions: model.predict(new_X)\n"
   ]
  },
  {
   "cell_type": "markdown",
   "id": "08c586f6-c91e-495e-96a0-912917b2564c",
   "metadata": {},
   "source": [
    "## Generalization\n",
    "\n",
    "### The performance of a Machine Learning model is evaluated on its ability to generalize when predicting unseen data.\n",
    "\n",
    "## The Holdout Method\n",
    "\n",
    "### The Holdout Method is used to evaluate a model's ability to generalize. It consists of splitting the dataset into two sets:\n",
    "\n",
    "### Training set (70%) Testing set (30%)\n",
    "### Model.score() on the test set"
   ]
  },
  {
   "cell_type": "code",
   "execution_count": null,
   "id": "fdc14913-017d-4918-8b0a-c9c1c0cbfb07",
   "metadata": {},
   "outputs": [],
   "source": [
    "from sklearn.model_selection import train_test_split # split the data into train and test\n",
    "\n",
    "\n",
    "\n",
    "train_data, test_data = train_test_split(livecode_data, test_size=0.3)\n",
    "# Ready X's and y's\n",
    "\n",
    "X_train = train_data[['size (m2)']]\n",
    "y_train = train_data['price (CLP)']\n",
    "\n",
    "X_test = test_data[['size (m2)']]\n",
    "y_test = test_data['price (CLP)']"
   ]
  },
  {
   "cell_type": "code",
   "execution_count": null,
   "id": "c2c4b26d-8b0e-407f-b0ed-f0c5205e128e",
   "metadata": {},
   "outputs": [],
   "source": [
    "# Ready X and y\n",
    "X = livecode_data[['size (m2)']]\n",
    "y = livecode_data['price (CLP)']\n",
    "\n",
    "# Split into Train/Test\n",
    "X_train, X_test, y_train, y_test = train_test_split(X, y, test_size=0.3)"
   ]
  },
  {
   "cell_type": "code",
   "execution_count": null,
   "id": "13af55f2-fcd2-461f-a137-8427f99c80bc",
   "metadata": {},
   "outputs": [],
   "source": [
    "# Instantiate the model\n",
    "model = LinearRegression()\n",
    "\n",
    "# Train the model on the Training data\n",
    "model.fit(X_train, y_train)\n",
    "\n",
    "# Score the model on the Test data\n",
    "\n",
    "model.score(X_test,y_test)"
   ]
  },
  {
   "cell_type": "markdown",
   "id": "d42cb1aa-1481-4116-86b2-129b68674c2d",
   "metadata": {},
   "source": [
    "\n",
    "Para mejorar el rendimiento, puede iterar por estos pasos: \n",
    "    \n",
    "Recopilar datos: Aumentar el número de ejemplos de entrenamiento. \n",
    "Procesamiento de características: Añada más variables y mejor de procesamiento de características."
   ]
  },
  {
   "cell_type": "code",
   "execution_count": null,
   "id": "f83bcad1-7bb5-4c80-9eca-0d0cf7c158c1",
   "metadata": {},
   "outputs": [],
   "source": [
    "model.predict([[50]])"
   ]
  },
  {
   "cell_type": "markdown",
   "id": "efcd5538-eac6-48b5-a8ba-4ed34f6d1553",
   "metadata": {},
   "source": [
    "## Calculos para encontrar buenas oportunidades de arriendo  / Inversion"
   ]
  },
  {
   "cell_type": "code",
   "execution_count": null,
   "id": "6df65ecb-3519-4a04-9da2-629c12ef9052",
   "metadata": {},
   "outputs": [],
   "source": [
    "data1 = pd.read_csv('./RegionMetropolitanalimpio.csv')\n",
    "data1"
   ]
  },
  {
   "cell_type": "code",
   "execution_count": null,
   "id": "eaa25a8b-9fae-4850-b390-cb57191a9e70",
   "metadata": {},
   "outputs": [],
   "source": [
    "data2 = data1.drop(['Unnamed: 0'], axis=1)\n",
    "\n",
    "data2"
   ]
  },
  {
   "cell_type": "code",
   "execution_count": null,
   "id": "30f722f7-a81f-4466-be1a-09212e34b267",
   "metadata": {},
   "outputs": [],
   "source": [
    "index = data2.index\n",
    "number_of_rows = len(index)\n",
    "number_of_rows"
   ]
  },
  {
   "cell_type": "code",
   "execution_count": null,
   "id": "4e89c7e8-c15f-423e-8799-4f6c05891282",
   "metadata": {},
   "outputs": [],
   "source": [
    "import math\n",
    "\n",
    "\n",
    "data2['clp/m2'] = (data2['price (CLP)'] / data2['size (m2)']) / 10000\n",
    "data2['clp/m2'] = data2['clp/m2'].round(2)\n",
    "\n",
    "data2.replace([np.inf, -np.inf], np.nan, inplace=True)\n",
    "data2.dropna(subset=['clp/m2'], inplace=True)\n",
    "mean = data2['clp/m2'].mean()\n",
    "\n",
    "data2['clp/m2 mean'] = data2['clp/m2'].mean() \n",
    "\n",
    "data2['over clp/m2 mean'] = data2['clp/m2'].map(lambda x : True if x > mean else False)\n",
    "\n",
    "data2['dif'] = data2['clp/m2'] - data2['clp/m2 mean']\n",
    "\n",
    "data2['dif^2'] = data2['dif'] * data2['dif'] \n",
    "#\n",
    "data2['desv'] = math.sqrt((sum(data2['dif^2']) / (number_of_rows - 1)))\n",
    "\n",
    "data2['sigma'] = (data2['dif'] / data2['desv'])\n",
    "\n",
    "data2['dif prom'] =  data2['dif'] / data2['clp/m2 mean']\n",
    "\n",
    "data2"
   ]
  },
  {
   "cell_type": "code",
   "execution_count": null,
   "id": "a008b8d9-20cc-4055-aeec-9e0505c62519",
   "metadata": {},
   "outputs": [],
   "source": [
    "order = data2.sort_values('sigma')   \n",
    "order"
   ]
  },
  {
   "cell_type": "markdown",
   "id": "42ee4dc7-aa03-4640-be8b-5caa347a55fb",
   "metadata": {},
   "source": [
    "## Idea\n",
    "\n",
    "- Agregar Links para facilitar la busqueda"
   ]
  },
  {
   "cell_type": "code",
   "execution_count": null,
   "id": "d8af4c5d-e03f-45a9-935f-7c5dbbcdd397",
   "metadata": {},
   "outputs": [],
   "source": []
  }
 ],
 "metadata": {
  "kernelspec": {
   "display_name": "Python 3 (ipykernel)",
   "language": "python",
   "name": "python3"
  },
  "language_info": {
   "codemirror_mode": {
    "name": "ipython",
    "version": 3
   },
   "file_extension": ".py",
   "mimetype": "text/x-python",
   "name": "python",
   "nbconvert_exporter": "python",
   "pygments_lexer": "ipython3",
   "version": "3.8.12"
  },
  "toc": {
   "base_numbering": 1,
   "nav_menu": {},
   "number_sections": true,
   "sideBar": true,
   "skip_h1_title": false,
   "title_cell": "Table of Contents",
   "title_sidebar": "Contents",
   "toc_cell": false,
   "toc_position": {},
   "toc_section_display": true,
   "toc_window_display": false
  },
  "varInspector": {
   "cols": {
    "lenName": 16,
    "lenType": 16,
    "lenVar": 40
   },
   "kernels_config": {
    "python": {
     "delete_cmd_postfix": "",
     "delete_cmd_prefix": "del ",
     "library": "var_list.py",
     "varRefreshCmd": "print(var_dic_list())"
    },
    "r": {
     "delete_cmd_postfix": ") ",
     "delete_cmd_prefix": "rm(",
     "library": "var_list.r",
     "varRefreshCmd": "cat(var_dic_list()) "
    }
   },
   "types_to_exclude": [
    "module",
    "function",
    "builtin_function_or_method",
    "instance",
    "_Feature"
   ],
   "window_display": false
  }
 },
 "nbformat": 4,
 "nbformat_minor": 5
}
